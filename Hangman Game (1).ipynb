{
 "cells": [
  {
   "cell_type": "code",
   "execution_count": null,
   "id": "122d549b",
   "metadata": {},
   "outputs": [
    {
     "name": "stdout",
     "output_type": "stream",
     "text": [
      "Welcome to Hangman!\n",
      "Guess the word: _ _ _ _ _\n"
     ]
    }
   ],
   "source": [
    "import random\n",
    "\n",
    "word_list = ['apple', 'brain', 'chair', 'dance', 'eagle','car','mango','teddy','pillow','switch','door']\n",
    "word = random.choice(word_list)\n",
    "\n",
    "guessed_letters = []\n",
    "tries_left = 6\n",
    "hidden_word = ['_' for _ in word]\n",
    "\n",
    "print(\"Welcome to Hangman!\")\n",
    "print(\"Guess the word:\", ' '.join(hidden_word))\n",
    "\n",
    "while tries_left > 0 and '_' in hidden_word:\n",
    "    guess = input(\"Enter a letter: \").lower()\n",
    "\n",
    "    if len(guess) != 1 or not guess.isalpha():\n",
    "        print(\"Please enter a single valid letter.\")\n",
    "        continue\n",
    "\n",
    "    if guess in guessed_letters:\n",
    "        print(\"You already guessed that letter.\")\n",
    "        continue\n",
    "\n",
    "    guessed_letters.append(guess)\n",
    "\n",
    "    if guess in word:\n",
    "        print(\"Good guess!\")\n",
    "        for i in range(len(word)):\n",
    "            if word[i] == guess:\n",
    "                hidden_word[i] = guess\n",
    "    else:\n",
    "        tries_left -= 1\n",
    "        print(f\"Wrong guess. Tries left: {tries_left}\")\n",
    "\n",
    "    print(\"Word so far:\", ' '.join(hidden_word))\n",
    "    print(\"Guessed letters:\", ', '.join(guessed_letters))\n",
    "    print()\n",
    "\n",
    "if '_' not in hidden_word:\n",
    "    print(\"Congratulations! You guessed the word:\", word)\n",
    "else:\n",
    "    print(\"Game Over! The word was:\",word)"
   ]
  },
  {
   "cell_type": "code",
   "execution_count": null,
   "id": "512797ff",
   "metadata": {},
   "outputs": [],
   "source": []
  }
 ],
 "metadata": {
  "kernelspec": {
   "display_name": "Python 3 (ipykernel)",
   "language": "python",
   "name": "python3"
  },
  "language_info": {
   "codemirror_mode": {
    "name": "ipython",
    "version": 3
   },
   "file_extension": ".py",
   "mimetype": "text/x-python",
   "name": "python",
   "nbconvert_exporter": "python",
   "pygments_lexer": "ipython3",
   "version": "3.11.5"
  }
 },
 "nbformat": 4,
 "nbformat_minor": 5
}
